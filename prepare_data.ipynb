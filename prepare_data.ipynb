{
 "cells": [
  {
   "cell_type": "code",
   "execution_count": 32,
   "metadata": {},
   "outputs": [],
   "source": [
    "import os \n",
    "import cv2\n",
    "import numpy as np\n",
    "from tqdm import tqdm\n",
    "from csv import reader\n",
    "import pandas as pd\n",
    "\n",
    "\n",
    "\n",
    "\n",
    "\n",
    "REBUILD_DATA = True\n"
   ]
  },
  {
   "cell_type": "code",
   "execution_count": 33,
   "metadata": {},
   "outputs": [],
   "source": [
    "Path = r\"E:\\scovedata\\mülakat_dosya\\labeled-data\"\n",
    "IMG_Path =r\"E:\\scovedata\\mülakat_dosya\"\n",
    "csv_fn=\"CollectedData_scovec.csv\"\n",
    "\n",
    "class Prepare_CSV():\n",
    "    def __init__(self):\n",
    "        self.df = []\n",
    "        \n",
    "\n",
    "    def read_data(self,path):\n",
    "        self.df = []\n",
    "        self.df = pd.read_csv(path)\n",
    "\n",
    "\n",
    "    def filter_data(self,path):\n",
    "        self.df = self.df[2:].reset_index(drop=True)\n",
    "        self.df = self.df.dropna().reset_index(drop=True)\n",
    "        self.change_columns()\n",
    "        return self.df\n",
    "        \n",
    "\n",
    "    def change_columns(self):\n",
    "        self.df=self.df.rename(columns={'scorer': 'path', 'scovec': 'body_top_x','scovec.1': 'body_top_y','scovec.2': 'tail_start_x','scovec.3': 'tail_start_y',\n",
    "        'scovec.4' : 'tail_mid_x', 'scovec.5': 'tail_mid_y', 'scovec.6': 'tail_end_x', 'scovec.7': 'tail_end_y'})\n",
    "    "
   ]
  },
  {
   "cell_type": "code",
   "execution_count": 34,
   "metadata": {},
   "outputs": [],
   "source": [
    "class prepare_image():\n",
    "    def __init__(self):\n",
    "        pass\n",
    "\n",
    "\n",
    "    def crop_image(self,path,x,y,x2,y2):\n",
    "\n",
    "        self.img = cv2.imread(path)\n",
    "\n",
    "        w = abs(x2-x)\n",
    "        h = abs(y2-y)\n",
    "\n",
    "\n",
    "        if x>x2:\n",
    "            self.img = self.img[y:y+h,x-w:x]\n",
    "        else:\n",
    "            self.img = self.img[y:y+h,x:x+w]\n",
    "        \n",
    "        return self.img"
   ]
  },
  {
   "cell_type": "code",
   "execution_count": 35,
   "metadata": {},
   "outputs": [],
   "source": [
    "class assign_data():\n",
    "    def __init__(self):\n",
    "        pass\n",
    "\n",
    "    def assign_coordinates(self,df):\n",
    "        self.df = df\n",
    "        path = self.df[\"path\"][j]\n",
    "        body_top_x = int(float(self.df[\"body_top_x\"][j]))\n",
    "        body_top_y = int(float(self.df[\"body_top_y\"][j]))\n",
    "        tail_start_x = int(float(self.df[\"tail_start_x\"][j]))\n",
    "        tail_start_y = int(float(self.df[\"tail_start_y\"][j]))\n",
    "        tail_mid_x = int(float(self.df[\"tail_mid_x\"][j]))\n",
    "        tail_mid_y = int(float(self.df[\"tail_mid_y\"][j]))\n",
    "        tail_end_x = int(float(self.df[\"tail_end_x\"][j]))\n",
    "        tail_end_y = int(float(self.df[\"tail_end_y\"][j]))\n",
    "\n",
    "        return path, body_top_x, body_top_y, tail_start_x, tail_start_y, tail_mid_x, tail_mid_y, tail_end_x, tail_end_y\n"
   ]
  },
  {
   "cell_type": "code",
   "execution_count": 42,
   "metadata": {},
   "outputs": [
    {
     "ename": "KeyboardInterrupt",
     "evalue": "",
     "output_type": "error",
     "traceback": [
      "\u001b[1;31m---------------------------------------------------------------------------\u001b[0m",
      "\u001b[1;31mKeyboardInterrupt\u001b[0m                         Traceback (most recent call last)",
      "\u001b[1;32m<ipython-input-42-b45da72937a4>\u001b[0m in \u001b[0;36m<module>\u001b[1;34m\u001b[0m\n\u001b[0;32m     15\u001b[0m         \u001b[0mimg\u001b[0m \u001b[1;33m=\u001b[0m \u001b[0mpreprocess_obj\u001b[0m\u001b[1;33m.\u001b[0m\u001b[0mcrop_image\u001b[0m\u001b[1;33m(\u001b[0m\u001b[0mpath\u001b[0m\u001b[1;33m,\u001b[0m\u001b[0mtail_start_x\u001b[0m\u001b[1;33m,\u001b[0m\u001b[0mtail_start_y\u001b[0m\u001b[1;33m,\u001b[0m\u001b[0mtail_end_x\u001b[0m\u001b[1;33m,\u001b[0m\u001b[0mtail_end_y\u001b[0m\u001b[1;33m)\u001b[0m\u001b[1;33m\u001b[0m\u001b[1;33m\u001b[0m\u001b[0m\n\u001b[0;32m     16\u001b[0m \u001b[1;33m\u001b[0m\u001b[0m\n\u001b[1;32m---> 17\u001b[1;33m         \u001b[0mcv2\u001b[0m\u001b[1;33m.\u001b[0m\u001b[0mimwrite\u001b[0m\u001b[1;33m(\u001b[0m\u001b[1;34mf\"abo{str(path[0:20])}.jpg\"\u001b[0m\u001b[1;33m,\u001b[0m\u001b[0mimg\u001b[0m\u001b[1;33m)\u001b[0m\u001b[1;33m\u001b[0m\u001b[1;33m\u001b[0m\u001b[0m\n\u001b[0m\u001b[0;32m     18\u001b[0m \u001b[1;33m\u001b[0m\u001b[0m\n\u001b[0;32m     19\u001b[0m \u001b[1;33m\u001b[0m\u001b[0m\n",
      "\u001b[1;31mKeyboardInterrupt\u001b[0m: "
     ]
    }
   ],
   "source": [
    "preparedata_obj = Prepare_CSV()\n",
    "preparecoordinates = assign_data()\n",
    "preprocess_obj = prepare_image()\n",
    "\n",
    "counter = 0\n",
    "for i in range(1,25):\n",
    "    path = Path + f\"\\\\tail{i}\\\\\"+csv_fn\n",
    "    preparedata_obj.read_data(path)\n",
    "    filtered_data=preparedata_obj.filter_data(path)\n",
    "    counter += len(filtered_data)\n",
    "    \n",
    "    for j in range(len(filtered_data[\"path\"])):\n",
    "        path, body_top_x, body_top_y, tail_start_x, tail_start_y, tail_mid_x, tail_mid_y, tail_end_x, tail_end_y = preparecoordinates.assign_coordinates(filtered_data)\n",
    "\n",
    "        img = preprocess_obj.crop_image(path,tail_start_x,tail_start_y,tail_end_x,tail_end_y)\n",
    "        \n",
    "        cv2.imwrite(f\"abo{j}.jpg\",img)\n",
    "        \n",
    "        \n",
    "    break\n",
    "        \n",
    "\n",
    "        #img = img.astype(np.float32)\n",
    "        #img = img/255.0\n",
    "        #img = img.reshape(1,224,224,3)\n",
    "        #filtered_data[\"img\"][j] = img\n",
    "        \n",
    "        \n",
    "    "
   ]
  }
 ],
 "metadata": {
  "interpreter": {
   "hash": "75a30548fdf3dbc5d56c450174bec395510dfa79d754af80d480ee316ccf8c82"
  },
  "kernelspec": {
   "display_name": "Python 3.8.8 ('base')",
   "language": "python",
   "name": "python3"
  },
  "language_info": {
   "codemirror_mode": {
    "name": "ipython",
    "version": 3
   },
   "file_extension": ".py",
   "mimetype": "text/x-python",
   "name": "python",
   "nbconvert_exporter": "python",
   "pygments_lexer": "ipython3",
   "version": "3.8.8"
  },
  "orig_nbformat": 4
 },
 "nbformat": 4,
 "nbformat_minor": 2
}
